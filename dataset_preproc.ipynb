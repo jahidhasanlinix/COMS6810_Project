{
 "cells": [
  {
   "cell_type": "code",
   "execution_count": 1,
   "id": "udi7bRhhg1jb",
   "metadata": {
    "colab": {
     "base_uri": "https://localhost:8080/"
    },
    "executionInfo": {
     "elapsed": 19625,
     "status": "ok",
     "timestamp": 1744083181026,
     "user": {
      "displayName": "Jahid Hasan",
      "userId": "17545206512131517041"
     },
     "user_tz": 300
    },
    "id": "udi7bRhhg1jb",
    "outputId": "425bb927-43ad-4295-9283-18982addb57f"
   },
   "outputs": [
    {
     "ename": "ModuleNotFoundError",
     "evalue": "No module named 'google'",
     "output_type": "error",
     "traceback": [
      "\u001b[31m---------------------------------------------------------------------------\u001b[39m",
      "\u001b[31mModuleNotFoundError\u001b[39m                       Traceback (most recent call last)",
      "\u001b[36mCell\u001b[39m\u001b[36m \u001b[39m\u001b[32mIn[1]\u001b[39m\u001b[32m, line 1\u001b[39m\n\u001b[32m----> \u001b[39m\u001b[32m1\u001b[39m \u001b[38;5;28;01mfrom\u001b[39;00m\u001b[38;5;250m \u001b[39m\u001b[34;01mgoogle\u001b[39;00m\u001b[34;01m.\u001b[39;00m\u001b[34;01mcolab\u001b[39;00m\u001b[38;5;250m \u001b[39m\u001b[38;5;28;01mimport\u001b[39;00m drive\n\u001b[32m      2\u001b[39m drive.mount(\u001b[33m'\u001b[39m\u001b[33m/content/drive\u001b[39m\u001b[33m'\u001b[39m)\n",
      "\u001b[31mModuleNotFoundError\u001b[39m: No module named 'google'"
     ]
    }
   ],
   "source": [
    "from google.colab import drive\n",
    "drive.mount('/content/drive')"
   ]
  },
  {
   "cell_type": "code",
   "execution_count": null,
   "id": "smpUze3YdkPY",
   "metadata": {
    "executionInfo": {
     "elapsed": 6,
     "status": "ok",
     "timestamp": 1744083280278,
     "user": {
      "displayName": "Jahid Hasan",
      "userId": "17545206512131517041"
     },
     "user_tz": 300
    },
    "id": "smpUze3YdkPY"
   },
   "outputs": [],
   "source": [
    "# !pip install pydicom\n",
    "# !pip install PyWavelets"
   ]
  },
  {
   "cell_type": "code",
   "execution_count": null,
   "id": "ea18ef94-9bc7-4b20-b9ec-7e33e6891ded",
   "metadata": {
    "executionInfo": {
     "elapsed": 394,
     "status": "ok",
     "timestamp": 1744083282777,
     "user": {
      "displayName": "Jahid Hasan",
      "userId": "17545206512131517041"
     },
     "user_tz": 300
    },
    "id": "ea18ef94-9bc7-4b20-b9ec-7e33e6891ded"
   },
   "outputs": [],
   "source": [
    "import os\n",
    "import pandas as pd\n",
    "import pydicom\n",
    "import numpy as np\n",
    "import cv2\n",
    "import matplotlib\n",
    "import matplotlib.pyplot as plt\n",
    "import pywt"
   ]
  },
  {
   "cell_type": "code",
   "execution_count": null,
   "id": "dK3gIvmhhpzZ",
   "metadata": {
    "executionInfo": {
     "elapsed": 25,
     "status": "ok",
     "timestamp": 1744083579138,
     "user": {
      "displayName": "Jahid Hasan",
      "userId": "17545206512131517041"
     },
     "user_tz": 300
    },
    "id": "dK3gIvmhhpzZ"
   },
   "outputs": [],
   "source": [
    "dataset_path = \"/content/drive/MyDrive/6810_Project/datasets/archive/overview.csv\"\n",
    "\n",
    "dicom_dir = \"/content/drive/MyDrive/6810_Project/datasets/archive/dicom_dir\""
   ]
  },
  {
   "cell_type": "code",
   "execution_count": null,
   "id": "885b2f5e-421e-4cac-b69f-03d097ef76f4",
   "metadata": {
    "executionInfo": {
     "elapsed": 12,
     "status": "ok",
     "timestamp": 1744083580138,
     "user": {
      "displayName": "Jahid Hasan",
      "userId": "17545206512131517041"
     },
     "user_tz": 300
    },
    "id": "885b2f5e-421e-4cac-b69f-03d097ef76f4"
   },
   "outputs": [],
   "source": [
    "# Load the metadata CSV file\n",
    "metadata = pd.read_csv(os.path.join(dataset_path))\n",
    "# print(\"Dataset Overview:\")\n",
    "# print(metadata.head())"
   ]
  },
  {
   "cell_type": "code",
   "execution_count": null,
   "id": "2dad2c32-28b1-4862-ac01-6ed7b3063b97",
   "metadata": {
    "executionInfo": {
     "elapsed": 9,
     "status": "ok",
     "timestamp": 1744083581331,
     "user": {
      "displayName": "Jahid Hasan",
      "userId": "17545206512131517041"
     },
     "user_tz": 300
    },
    "id": "2dad2c32-28b1-4862-ac01-6ed7b3063b97"
   },
   "outputs": [],
   "source": [
    "# Function to load a DICOM image\n",
    "def load_dicom_image(file_path):\n",
    "    dicom = pydicom.dcmread(file_path)\n",
    "    image = dicom.pixel_array\n",
    "    return image"
   ]
  },
  {
   "cell_type": "code",
   "execution_count": null,
   "id": "57d2736c-b16b-49e9-a714-cb1512457f58",
   "metadata": {
    "executionInfo": {
     "elapsed": 6,
     "status": "ok",
     "timestamp": 1744083582573,
     "user": {
      "displayName": "Jahid Hasan",
      "userId": "17545206512131517041"
     },
     "user_tz": 300
    },
    "id": "57d2736c-b16b-49e9-a714-cb1512457f58"
   },
   "outputs": [],
   "source": [
    "# Function to preprocess image (resize and normalize)\n",
    "def preprocess_image(image, target_size=(256, 256)):\n",
    "    image_resized = cv2.resize(image, target_size, interpolation=cv2.INTER_AREA)\n",
    "    image_normalized = image_resized / np.max(image_resized, initial=1)  # Avoid division by zero\n",
    "    return image_normalized"
   ]
  },
  {
   "cell_type": "code",
   "execution_count": null,
   "id": "f55afbea-b5d5-4301-90f6-96c1999842ff",
   "metadata": {
    "colab": {
     "base_uri": "https://localhost:8080/"
    },
    "executionInfo": {
     "elapsed": 419,
     "status": "ok",
     "timestamp": 1744083622775,
     "user": {
      "displayName": "Jahid Hasan",
      "userId": "17545206512131517041"
     },
     "user_tz": 300
    },
    "id": "f55afbea-b5d5-4301-90f6-96c1999842ff",
    "outputId": "e20640bb-1449-4ef7-978b-e8033b182f15"
   },
   "outputs": [],
   "source": [
    "# Example: Load and preprocess a sample image\n",
    "sample_row = metadata.iloc[0]\n",
    "dicom_filename = sample_row['dicom_name']  # Adjust column name if different\n",
    "dicom_path = os.path.join(dicom_dir, dicom_filename)\n",
    "\n",
    "# Load and verify the DICOM image\n",
    "raw_image = load_dicom_image(dicom_path)\n",
    "print(f\"Raw Image Shape: {raw_image.shape}\")\n",
    "print(\"Raw Image Sample Data:\", raw_image[:5, :5])  # Check some pixel values\n",
    "\n",
    "# Preprocess the image\n",
    "processed_image = preprocess_image(raw_image)\n",
    "print(f\"Processed Image Shape: {processed_image.shape}\")\n",
    "print(\"Processed Image Sample Data:\", processed_image[:5, :5])\n"
   ]
  },
  {
   "cell_type": "code",
   "execution_count": null,
   "id": "04184797-f373-4fe2-b922-9ef44abaaa1f",
   "metadata": {
    "colab": {
     "base_uri": "https://localhost:8080/",
     "height": 428
    },
    "executionInfo": {
     "elapsed": 580,
     "status": "ok",
     "timestamp": 1744083626370,
     "user": {
      "displayName": "Jahid Hasan",
      "userId": "17545206512131517041"
     },
     "user_tz": 300
    },
    "id": "04184797-f373-4fe2-b922-9ef44abaaa1f",
    "outputId": "6f34c121-b03c-4f56-e036-76beb6aa36d8"
   },
   "outputs": [],
   "source": [
    "# Visualize the original and processed images\n",
    "plt.figure(figsize=(10, 5))\n",
    "\n",
    "plt.subplot(1, 2, 1)\n",
    "plt.title(\"Original Image\")\n",
    "plt.imshow(raw_image, cmap='gray')\n",
    "plt.axis('off')\n",
    "\n",
    "plt.subplot(1, 2, 2)\n",
    "plt.title(\"Processed Image (Resized & Normalized)\")\n",
    "plt.imshow(processed_image, cmap='gray')\n",
    "plt.axis('off')\n",
    "\n",
    "plt.show(block=True)  # Ensure the plot window stays open\n",
    "print(\"Plot should be displayed now.\")"
   ]
  },
  {
   "cell_type": "code",
   "execution_count": null,
   "id": "110a29d0-6b8f-44d1-aeef-f92559038a0e",
   "metadata": {
    "executionInfo": {
     "elapsed": 6,
     "status": "ok",
     "timestamp": 1744083629700,
     "user": {
      "displayName": "Jahid Hasan",
      "userId": "17545206512131517041"
     },
     "user_tz": 300
    },
    "id": "110a29d0-6b8f-44d1-aeef-f92559038a0e"
   },
   "outputs": [],
   "source": [
    "# Standard 2D-DWT function\n",
    "def dwt_2d(image):\n",
    "    coeffs = pywt.wavedec2(image, 'haar', level=1)\n",
    "    coeff_arr, coeff_slices = pywt.coeffs_to_array(coeffs)\n",
    "    return coeff_arr, coeff_slices\n",
    "\n",
    "# Inverse Standard 2D-DWT function\n",
    "def idwt_2d(coeff_arr, coeff_slices):\n",
    "    coeffs = pywt.array_to_coeffs(coeff_arr, coeff_slices, output_format='wavedec2')\n",
    "    return pywt.waverec2(coeffs, 'haar')\n",
    "\n",
    "# Function to perform DWT and return sub-bands\n",
    "def dwt_2d_with_subbands(image, wavelet='haar', level=1):\n",
    "    coeffs = pywt.wavedec2(image, wavelet, level=level)\n",
    "    # For level=1, coeffs[0] is approximation, coeffs[1] is a tuple of (horizontal, vertical, diagonal) details\n",
    "    cA = coeffs[0]  # Approximation (low-frequency)\n",
    "    (cH, cV, cD) = coeffs[1]  # Detail coefficients: Horizontal, Vertical, Diagonal\n",
    "    return cA, cH, cV, cD"
   ]
  },
  {
   "cell_type": "code",
   "execution_count": null,
   "id": "b83c866e-e091-48f6-97db-a3a9622a9340",
   "metadata": {
    "colab": {
     "base_uri": "https://localhost:8080/"
    },
    "executionInfo": {
     "elapsed": 9,
     "status": "ok",
     "timestamp": 1744083631681,
     "user": {
      "displayName": "Jahid Hasan",
      "userId": "17545206512131517041"
     },
     "user_tz": 300
    },
    "id": "b83c866e-e091-48f6-97db-a3a9622a9340",
    "outputId": "6780de6c-45d7-49df-9410-349591d22bc3"
   },
   "outputs": [],
   "source": [
    "coeff_arr, coeff_slices = dwt_2d(processed_image)\n",
    "print(f\"DWT Coefficient Array Shape: {coeff_arr.shape}\")\n",
    "\n",
    "# Reconstruct the image from DWT coefficients\n",
    "reconstructed_image = idwt_2d(coeff_arr, coeff_slices)\n",
    "print(f\"Reconstructed Image Shape: {reconstructed_image.shape}\")"
   ]
  },
  {
   "cell_type": "code",
   "execution_count": null,
   "id": "f22d8b59-d1ba-40f5-b9e9-3f32b68a9a58",
   "metadata": {
    "colab": {
     "base_uri": "https://localhost:8080/",
     "height": 418
    },
    "executionInfo": {
     "elapsed": 406,
     "status": "ok",
     "timestamp": 1744083633500,
     "user": {
      "displayName": "Jahid Hasan",
      "userId": "17545206512131517041"
     },
     "user_tz": 300
    },
    "id": "f22d8b59-d1ba-40f5-b9e9-3f32b68a9a58",
    "outputId": "a80d2053-a3f0-4c09-9ee3-456815cabbba"
   },
   "outputs": [],
   "source": [
    "# Visualize the original, processed, and DWT-reconstructed images\n",
    "plt.figure(figsize=(15, 5))\n",
    "\n",
    "plt.subplot(1, 3, 1)\n",
    "plt.title(\"Original Image\")\n",
    "plt.imshow(raw_image, cmap='gray')\n",
    "plt.axis('off')\n",
    "\n",
    "plt.subplot(1, 3, 2)\n",
    "plt.title(\"Processed Image\")\n",
    "plt.imshow(processed_image, cmap='gray')\n",
    "plt.axis('off')\n",
    "\n",
    "plt.subplot(1, 3, 3)\n",
    "plt.title(\"DWT Reconstructed Image\")\n",
    "plt.imshow(reconstructed_image, cmap='gray')\n",
    "plt.axis('off')\n",
    "\n",
    "plt.show()\n",
    "print(\"Plots should be displayed now.\")"
   ]
  },
  {
   "cell_type": "code",
   "execution_count": null,
   "id": "791000b1-b91e-4d43-bbb3-83d7a7415e07",
   "metadata": {
    "id": "791000b1-b91e-4d43-bbb3-83d7a7415e07"
   },
   "outputs": [],
   "source": [
    "'''\n",
    "Instead of returning a single coefficient array, this function extracts the individual features:\n",
    "            cA: Reconstructs the overall structure of the image. (smoothed version of the image, low-frequency).\n",
    "            cH: Emphasizes horizontal edges (e.g., lines or boundaries running left-right).\n",
    "            cV: Emphasizes vertical edges (e.g., lines or boundaries running up-down).\n",
    "            cD: Emphasizes diagonal edges or textures.\n",
    "        These sub-bands show what the DWT is \"detecting\" in terms of frequency components.\n",
    "    Shape Information: Each sub-band is typically half the size of the input image\n",
    "\n",
    "    If DWT is Working:\n",
    "        The approximation (cA) should look like a downscaled, smoother version of the original image.\n",
    "        The detail coefficients (cH, cV, cD) should highlight edges or changes in intensity:\n",
    "            Bright areas in cH indicate strong horizontal edges.\n",
    "            Bright areas in cV indicate strong vertical edges.\n",
    "            Bright areas in cD indicate strong diagonal edges.\n",
    "        If these sub-bands are mostly flat or zero, it might mean the image lacks significant edges or the normalization flattened the data too much.\n",
    "    Highlighting Regions:\n",
    "        The sub-bands themselves act as \"highlight maps\" for the regions detected by DWT. For example, if cH shows bright spots, those correspond to horizontal features in the original image.\n",
    "'''"
   ]
  },
  {
   "cell_type": "code",
   "execution_count": null,
   "id": "1ba2eb6e-c9fd-44bb-b340-435968330635",
   "metadata": {
    "colab": {
     "base_uri": "https://localhost:8080/",
     "height": 1000
    },
    "executionInfo": {
     "elapsed": 2928,
     "status": "ok",
     "timestamp": 1744083981196,
     "user": {
      "displayName": "Jahid Hasan",
      "userId": "17545206512131517041"
     },
     "user_tz": 300
    },
    "id": "1ba2eb6e-c9fd-44bb-b340-435968330635",
    "outputId": "9b40355c-aa98-4c2a-efad-5690b16a3db7"
   },
   "outputs": [],
   "source": [
    "# Number of images to visualize\n",
    "num_images_to_display = 3\n",
    "\n",
    "# Process all images in the dataset\n",
    "for idx, row in metadata.iterrows():\n",
    "    dicom_filename = row['dicom_name']  # Adjust column name if different\n",
    "    dicom_path = os.path.join(dicom_dir, dicom_filename)\n",
    "\n",
    "    try:\n",
    "        # Load and preprocess the DICOM image\n",
    "        raw_image = load_dicom_image(dicom_path)\n",
    "        processed_image = preprocess_image(raw_image)\n",
    "\n",
    "        # Apply DWT and get sub-bands\n",
    "        cA, cH, cV, cD = dwt_2d_with_subbands(processed_image)\n",
    "\n",
    "        # Visualize only the first num_images_to_display images\n",
    "        if idx < num_images_to_display:\n",
    "            print(f\"Processing Image {idx + 1}: {dicom_filename}\")\n",
    "            print(f\"Raw Image Shape: {raw_image.shape}\")\n",
    "            print(f\"Processed Image Shape: {processed_image.shape}\")\n",
    "            print(f\"Approximation (cA) Shape: {cA.shape}\")\n",
    "            print(f\"Horizontal Detail (cH) Shape: {cH.shape}\")\n",
    "            print(f\"Vertical Detail (cV) Shape: {cV.shape}\")\n",
    "            print(f\"Diagonal Detail (cD) Shape: {cD.shape}\")\n",
    "\n",
    "            # Create a figure to display original image and DWT sub-bands\n",
    "            plt.figure(figsize=(20, 5))\n",
    "\n",
    "            # Original Image\n",
    "            plt.subplot(1, 5, 1)\n",
    "            plt.title(f\"Original Image {idx + 1}\")\n",
    "            plt.imshow(processed_image, cmap='gray')\n",
    "            plt.axis('off')\n",
    "\n",
    "            # Approximation (Low-frequency component)\n",
    "            plt.subplot(1, 5, 2)\n",
    "            plt.title(\"Approximation (cA)\")\n",
    "            plt.imshow(cA, cmap='gray')\n",
    "            plt.axis('off')\n",
    "\n",
    "            # Horizontal Detail (High-frequency horizontal edges)\n",
    "            plt.subplot(1, 5, 3)\n",
    "            plt.title(\"Horizontal Detail (cH)\")\n",
    "            plt.imshow(cH, cmap='gray')\n",
    "            plt.axis('off')\n",
    "\n",
    "            # Vertical Detail (High-frequency vertical edges)\n",
    "            plt.subplot(1, 5, 4)\n",
    "            plt.title(\"Vertical Detail (cV)\")\n",
    "            plt.imshow(cV, cmap='gray')\n",
    "            plt.axis('off')\n",
    "\n",
    "            # Diagonal Detail (High-frequency diagonal edges)\n",
    "            plt.subplot(1, 5, 5)\n",
    "            plt.title(\"Diagonal Detail (cD)\")\n",
    "            plt.imshow(cD, cmap='gray')\n",
    "            plt.axis('off')\n",
    "\n",
    "            plt.tight_layout()\n",
    "            plt.show()\n",
    "            print(f\"DWT sub-bands for Image {idx + 1} displayed.\")\n",
    "\n",
    "        else:\n",
    "            # For images beyond the display limit, just process without plotting\n",
    "            print(f\"Processed Image {idx + 1}: {dicom_filename} (No plot)\")\n",
    "\n",
    "    except Exception as e:\n",
    "        print(f\"Error processing {dicom_filename}: {str(e)}\")\n",
    "\n",
    "print(\"All images processed.\")"
   ]
  }
 ],
 "metadata": {
  "colab": {
   "provenance": []
  },
  "kernelspec": {
   "display_name": "Python 3 (ipykernel)",
   "language": "python",
   "name": "python3"
  },
  "language_info": {
   "codemirror_mode": {
    "name": "ipython",
    "version": 3
   },
   "file_extension": ".py",
   "mimetype": "text/x-python",
   "name": "python",
   "nbconvert_exporter": "python",
   "pygments_lexer": "ipython3",
   "version": "3.12.8"
  }
 },
 "nbformat": 4,
 "nbformat_minor": 5
}
